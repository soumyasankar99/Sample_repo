{
  "nbformat": 4,
  "nbformat_minor": 0,
  "metadata": {
    "colab": {
      "provenance": [],
      "authorship_tag": "ABX9TyPMnMxPn3gGHb/KnK18rscw",
      "include_colab_link": true
    },
    "kernelspec": {
      "name": "python3",
      "display_name": "Python 3"
    },
    "language_info": {
      "name": "python"
    }
  },
  "cells": [
    {
      "cell_type": "markdown",
      "metadata": {
        "id": "view-in-github",
        "colab_type": "text"
      },
      "source": [
        "<a href=\"https://colab.research.google.com/github/soumyasankar99/Sample_repo/blob/main/DEMO_code.ipynb\" target=\"_parent\"><img src=\"https://colab.research.google.com/assets/colab-badge.svg\" alt=\"Open In Colab\"/></a>"
      ]
    },
    {
      "cell_type": "markdown",
      "source": [
        "To connect Python to an SQL database, you can use libraries like sqlite3 for SQLite databases or third-party libraries like pymysql for MySQL, psycopg2 for PostgreSQL, etc. Below, I'll provide you with an example code for connecting to an SQLite database using the sqlite3 library:"
      ],
      "metadata": {
        "id": "vcXL_p22uKi_"
      }
    },
    {
      "cell_type": "code",
      "execution_count": null,
      "metadata": {
        "id": "uwBOZrKRtq59"
      },
      "outputs": [],
      "source": [
        "import sqlite3\n",
        "\n",
        "# Connect to the database or create a new one if it doesn't exist\n",
        "conn = sqlite3.connect('example.db')\n",
        "\n",
        "# Create a cursor object to interact with the database\n",
        "cursor = conn.cursor()\n",
        "\n",
        "# Execute SQL commands using the cursor\n",
        "# For example, creating a table\n",
        "create_table_query = '''\n",
        "CREATE TABLE IF NOT EXISTS employees (\n",
        "    id INTEGER PRIMARY KEY,\n",
        "    name TEXT NOT NULL,\n",
        "    position TEXT\n",
        ")\n",
        "'''\n",
        "cursor.execute(create_table_query)\n",
        "\n",
        "# Insert data into the table\n",
        "insert_data_query = '''\n",
        "INSERT INTO employees (name, position)\n",
        "VALUES (?, ?)\n",
        "'''\n",
        "data = [('John Doe', 'Manager'), ('Jane Smith', 'Developer')]\n",
        "cursor.executemany(insert_data_query, data)\n",
        "\n",
        "# Commit the changes to the database\n",
        "conn.commit()\n",
        "\n",
        "# Query data from the table\n",
        "select_query = 'SELECT * FROM employees'\n",
        "cursor.execute(select_query)\n",
        "rows = cursor.fetchall()\n",
        "\n",
        "# Print the retrieved data\n",
        "for row in rows:\n",
        "    print(row)\n",
        "\n",
        "# Close the cursor and the connection\n",
        "cursor.close()\n",
        "conn.close()\n"
      ]
    },
    {
      "cell_type": "markdown",
      "source": [
        "Replace 'example.db' with the path to your SQLite database file, and modify the queries and data as needed for your use case.\n",
        "\n",
        "\n",
        "For other databases like MySQL or PostgreSQL, you would use similar concepts but with different libraries (e.g., pymysql for MySQL or psycopg2 for PostgreSQL) and connection configurations.\n",
        "\n",
        "\n",
        "Remember to install the necessary libraries using pip before running the code. For example, for SQLite:"
      ],
      "metadata": {
        "id": "CVaOXutzuUVi"
      }
    },
    {
      "cell_type": "code",
      "source": [
        "pip install pysqlite3"
      ],
      "metadata": {
        "id": "1HS0Oizbtwbk"
      },
      "execution_count": null,
      "outputs": []
    },
    {
      "cell_type": "code",
      "source": [
        "# And for MySQL:\n",
        "\n",
        "pip install pymysql"
      ],
      "metadata": {
        "id": "wUr74xaqtwfI"
      },
      "execution_count": null,
      "outputs": []
    },
    {
      "cell_type": "markdown",
      "source": [
        "Please note that handling databases involves security considerations like using parameterized queries to prevent SQL injection and managing sensitive information like database credentials"
      ],
      "metadata": {
        "id": "fmlmDnNoujbI"
      }
    }
  ]
}